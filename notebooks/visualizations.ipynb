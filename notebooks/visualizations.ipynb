{
 "cells": [
  {
   "cell_type": "code",
   "execution_count": null,
   "metadata": {},
   "outputs": [],
   "source": [
    "import warnings\n",
    "warnings.simplefilter(\"ignore\", FutureWarning)"
   ]
  },
  {
   "cell_type": "code",
   "execution_count": null,
   "metadata": {},
   "outputs": [],
   "source": [
    "from mdlw.augment import Augmenter\n",
    "from mdlw.dataset import ImageDataset\n",
    "from mdlw.utils.data import get_image_paths, make_class_map, train_val_split\n",
    "from mdlw.utils.misc import load_cfg\n",
    "\n",
    "cfg = load_cfg(path=\"../configs/config.yaml\")\n",
    "\n",
    "img_paths, class_map = get_image_paths(cfg.data_dir), make_class_map(cfg.data_dir)\n",
    "train_img_paths, val_img_paths = train_val_split(img_paths, val_ratio=cfg.val_ratio, seed=cfg.seed)\n",
    "\n",
    "train_dataset = ImageDataset(\n",
    "    img_paths=train_img_paths, \n",
    "    class_map=class_map, \n",
    "    transform=Augmenter(train=True, image_size=cfg.image_size), \n",
    ")\n",
    "val_dataset = ImageDataset(\n",
    "    img_paths=val_img_paths,\n",
    "    class_map=class_map,\n",
    "    transform=Augmenter(train=False, image_size=cfg.image_size), \n",
    ")"
   ]
  },
  {
   "cell_type": "code",
   "execution_count": null,
   "metadata": {},
   "outputs": [],
   "source": [
    "from mdlw.utils.visualize import show_image_grid\n",
    "\n",
    "show_image_grid(train_dataset, class_map, title='Train dataset images')\n",
    "show_image_grid(val_dataset, class_map, title='Validation dataset images')"
   ]
  },
  {
   "cell_type": "code",
   "execution_count": null,
   "metadata": {},
   "outputs": [],
   "source": [
    "import torch\n",
    "from mdlw.utils.misc import get_device\n",
    "\n",
    "MODEL_PATH = \"../runs/run_5/best_model.pt\"\n",
    "\n",
    "device = get_device()\n",
    "model = torch.load(MODEL_PATH, map_location=device)\n",
    "\n",
    "print(f'Model param count: {sum(p.numel() for p in model.parameters())}')\n",
    "model.eval()"
   ]
  },
  {
   "cell_type": "code",
   "execution_count": null,
   "metadata": {},
   "outputs": [],
   "source": [
    "import random\n",
    "from mdlw.utils.visualize import show_image\n",
    "from mdlw.utils.data import reverse_class_map\n",
    "\n",
    "img, label = random.choice(val_dataset)\n",
    "logits = model(img.unsqueeze(0).to(device))\n",
    "pred = torch.argmax(logits[0]).item()\n",
    "\n",
    "reversed_map = reverse_class_map(class_map)\n",
    "show_image(img, title=f'label: {reversed_map[label]}, prediction: {reversed_map[pred]}')"
   ]
  },
  {
   "cell_type": "code",
   "execution_count": null,
   "metadata": {},
   "outputs": [],
   "source": [
    "from mdlw.utils.visualize import visualize_fmap\n",
    "\n",
    "visualize_fmap(model, img, layer_name='conv6', device=device)"
   ]
  },
  {
   "cell_type": "code",
   "execution_count": 3,
   "metadata": {},
   "outputs": [
    {
     "name": "stdout",
     "output_type": "stream",
     "text": [
      "Model param count: 1972792\n"
     ]
    }
   ],
   "source": [
    "from mdlw.model import ImageClassifierV3 as CLS\n",
    "model = CLS(10)\n",
    "print(f'Model param count: {sum(p.numel() for p in model.parameters())}')\n"
   ]
  }
 ],
 "metadata": {
  "kernelspec": {
   "display_name": ".venv",
   "language": "python",
   "name": "python3"
  },
  "language_info": {
   "codemirror_mode": {
    "name": "ipython",
    "version": 3
   },
   "file_extension": ".py",
   "mimetype": "text/x-python",
   "name": "python",
   "nbconvert_exporter": "python",
   "pygments_lexer": "ipython3",
   "version": "3.11.9"
  }
 },
 "nbformat": 4,
 "nbformat_minor": 2
}
