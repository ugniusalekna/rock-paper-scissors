{
 "cells": [
  {
   "cell_type": "code",
   "execution_count": 1,
   "metadata": {},
   "outputs": [],
   "source": [
    "import os, sys\n",
    "sys.path.append(os.path.join(os.path.dirname(os.getcwd()), 'src'))"
   ]
  },
  {
   "cell_type": "code",
   "execution_count": 2,
   "metadata": {},
   "outputs": [],
   "source": [
    "from types import SimpleNamespace\n",
    "\n",
    "from rps.augment import Augmenter\n",
    "from rps.dataset import RPSDataset\n",
    "from rps.utils.data import load_yaml, get_image_paths, make_class_map, train_val_split\n",
    "\n",
    "\n",
    "cfg_dict = load_yaml(path=\"../configs/config.yaml\")\n",
    "cfg = SimpleNamespace(**cfg_dict)\n",
    "\n",
    "img_paths, class_map = get_image_paths(cfg.data_dir), make_class_map(cfg.data_dir)\n",
    "train_img_paths, val_img_paths = train_val_split(img_paths, val_ratio=cfg.val_ratio, seed=cfg.seed)\n",
    "\n",
    "train_dataset = RPSDataset(\n",
    "    img_paths=train_img_paths, \n",
    "    class_map=class_map, \n",
    "    transform=Augmenter(train=True, image_size=cfg.image_size), \n",
    ")\n",
    "val_dataset = RPSDataset(\n",
    "    img_paths=val_img_paths,\n",
    "    class_map=class_map,\n",
    "    transform=Augmenter(train=False, image_size=cfg.image_size), \n",
    ")"
   ]
  },
  {
   "cell_type": "code",
   "execution_count": null,
   "metadata": {},
   "outputs": [],
   "source": [
    "from rps.utils.visualize import show_image_grid\n",
    "\n",
    "show_image_grid(train_dataset, class_map, title='Train dataset images')\n",
    "show_image_grid(val_dataset, class_map, title='Validation dataset images')"
   ]
  },
  {
   "cell_type": "code",
   "execution_count": null,
   "metadata": {},
   "outputs": [],
   "source": [
    "from rps.inference import RPSInference\n",
    "from rps.utils.capture import crop_square\n",
    "\n",
    "\n",
    "ONNX_PATH = \"../runs/run_1/best_model.onnx\"\n",
    "model = RPSInference(model_path=ONNX_PATH, class_map=class_map)"
   ]
  },
  {
   "cell_type": "code",
   "execution_count": null,
   "metadata": {},
   "outputs": [],
   "source": [
    "import random\n",
    "from PIL import Image\n",
    "import matplotlib.pyplot as plt\n",
    "from rps.utils.data import read_image\n",
    "\n",
    "\n",
    "img_path = random.choice(val_img_paths)\n",
    "image = read_image(img_path)\n",
    "\n",
    "plt.imshow(image)\n",
    "plt.title(\"Random Validation Image\")\n",
    "plt.axis('off')\n",
    "plt.show()\n",
    "\n",
    "prediction = model.predict(crop_square(image))\n",
    "print(f\"Prediction: {prediction}\")"
   ]
  }
 ],
 "metadata": {
  "kernelspec": {
   "display_name": "py311",
   "language": "python",
   "name": "python3"
  },
  "language_info": {
   "codemirror_mode": {
    "name": "ipython",
    "version": 3
   },
   "file_extension": ".py",
   "mimetype": "text/x-python",
   "name": "python",
   "nbconvert_exporter": "python",
   "pygments_lexer": "ipython3",
   "version": "3.11.9"
  }
 },
 "nbformat": 4,
 "nbformat_minor": 2
}
